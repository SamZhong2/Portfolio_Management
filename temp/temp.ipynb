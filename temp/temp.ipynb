{
 "cells": [
  {
   "cell_type": "code",
   "execution_count": 1,
   "metadata": {},
   "outputs": [],
   "source": [
    "import yfinance as yf"
   ]
  },
  {
   "cell_type": "code",
   "execution_count": 26,
   "metadata": {},
   "outputs": [],
   "source": [
    "tickers = ['AAPL', 'JPM', 'MSFT']"
   ]
  },
  {
   "cell_type": "code",
   "execution_count": 36,
   "metadata": {},
   "outputs": [
    {
     "name": "stderr",
     "output_type": "stream",
     "text": [
      "[*********************100%***********************]  3 of 3 completed\n"
     ]
    }
   ],
   "source": [
    "data = yf.download(tickers, start=\"1990-09-01\", end=\"2024-09-01\", interval=\"1d\")"
   ]
  },
  {
   "cell_type": "code",
   "execution_count": 39,
   "metadata": {},
   "outputs": [],
   "source": [
    "mydata = data['Adj Close']\n",
    "mydata.index = mydata.index.tz_localize(None)"
   ]
  },
  {
   "cell_type": "code",
   "execution_count": 40,
   "metadata": {},
   "outputs": [
    {
     "data": {
      "text/html": [
       "<div>\n",
       "<style scoped>\n",
       "    .dataframe tbody tr th:only-of-type {\n",
       "        vertical-align: middle;\n",
       "    }\n",
       "\n",
       "    .dataframe tbody tr th {\n",
       "        vertical-align: top;\n",
       "    }\n",
       "\n",
       "    .dataframe thead th {\n",
       "        text-align: right;\n",
       "    }\n",
       "</style>\n",
       "<table border=\"1\" class=\"dataframe\">\n",
       "  <thead>\n",
       "    <tr style=\"text-align: right;\">\n",
       "      <th>Ticker</th>\n",
       "      <th>AAPL</th>\n",
       "      <th>JPM</th>\n",
       "      <th>MSFT</th>\n",
       "    </tr>\n",
       "    <tr>\n",
       "      <th>Date</th>\n",
       "      <th></th>\n",
       "      <th></th>\n",
       "      <th></th>\n",
       "    </tr>\n",
       "  </thead>\n",
       "  <tbody>\n",
       "    <tr>\n",
       "      <th>1990-09-04</th>\n",
       "      <td>0.262725</td>\n",
       "      <td>2.535362</td>\n",
       "      <td>0.532032</td>\n",
       "    </tr>\n",
       "    <tr>\n",
       "      <th>1990-09-05</th>\n",
       "      <td>0.255625</td>\n",
       "      <td>2.592983</td>\n",
       "      <td>0.504255</td>\n",
       "    </tr>\n",
       "    <tr>\n",
       "      <th>1990-09-06</th>\n",
       "      <td>0.253849</td>\n",
       "      <td>2.564171</td>\n",
       "      <td>0.491435</td>\n",
       "    </tr>\n",
       "    <tr>\n",
       "      <th>1990-09-07</th>\n",
       "      <td>0.258288</td>\n",
       "      <td>2.636200</td>\n",
       "      <td>0.493572</td>\n",
       "    </tr>\n",
       "    <tr>\n",
       "      <th>1990-09-10</th>\n",
       "      <td>0.253849</td>\n",
       "      <td>2.598192</td>\n",
       "      <td>0.476479</td>\n",
       "    </tr>\n",
       "  </tbody>\n",
       "</table>\n",
       "</div>"
      ],
      "text/plain": [
       "Ticker          AAPL       JPM      MSFT\n",
       "Date                                    \n",
       "1990-09-04  0.262725  2.535362  0.532032\n",
       "1990-09-05  0.255625  2.592983  0.504255\n",
       "1990-09-06  0.253849  2.564171  0.491435\n",
       "1990-09-07  0.258288  2.636200  0.493572\n",
       "1990-09-10  0.253849  2.598192  0.476479"
      ]
     },
     "execution_count": 40,
     "metadata": {},
     "output_type": "execute_result"
    }
   ],
   "source": [
    "mydata.head()   "
   ]
  },
  {
   "cell_type": "code",
   "execution_count": 41,
   "metadata": {},
   "outputs": [],
   "source": [
    "import pandas as pd\n",
    "import numpy as np\n",
    "from fredapi import Fred\n",
    "fred = Fred(api_key='dbc938743655482a0f341e0216a5c36e')"
   ]
  },
  {
   "cell_type": "code",
   "execution_count": 45,
   "metadata": {},
   "outputs": [],
   "source": [
    "interest_rate = fred.get_series('FEDFUNDS', start_date='2004-09-01', end_date='2024-09-01')\n",
    "unemployment_rate = fred.get_series('UNRATE', start_date='2004-09-01', end_date='2024-09-01')\n",
    "interest_rate_df = interest_rate.to_frame(name='Interest_Rate')\n",
    "unemployment_rate_df = unemployment_rate.to_frame(name='Unemployment_Rate')"
   ]
  },
  {
   "cell_type": "code",
   "execution_count": null,
   "metadata": {},
   "outputs": [
    {
     "data": {
      "text/plain": [
       "<bound method NDFrame.head of             Interest_Rate\n",
       "1954-07-01           0.80\n",
       "1954-08-01           1.22\n",
       "1954-09-01           1.07\n",
       "1954-10-01           0.85\n",
       "1954-11-01           0.83\n",
       "...                   ...\n",
       "2024-07-01           5.33\n",
       "2024-08-01           5.33\n",
       "2024-09-01           5.13\n",
       "2024-10-01           4.83\n",
       "2024-11-01           4.64\n",
       "\n",
       "[845 rows x 1 columns]>"
      ]
     },
     "execution_count": 47,
     "metadata": {},
     "output_type": "execute_result"
    }
   ],
   "source": []
  },
  {
   "cell_type": "code",
   "execution_count": null,
   "metadata": {},
   "outputs": [],
   "source": []
  }
 ],
 "metadata": {
  "kernelspec": {
   "display_name": "stock",
   "language": "python",
   "name": "python3"
  },
  "language_info": {
   "codemirror_mode": {
    "name": "ipython",
    "version": 3
   },
   "file_extension": ".py",
   "mimetype": "text/x-python",
   "name": "python",
   "nbconvert_exporter": "python",
   "pygments_lexer": "ipython3",
   "version": "3.11.9"
  }
 },
 "nbformat": 4,
 "nbformat_minor": 2
}
